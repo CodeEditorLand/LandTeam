{
 "cells": [
  {
   "cell_type": "code",
   "execution_count": 1,
   "metadata": {},
   "outputs": [],
   "source": [
    "team = require('./team.json')\r\n",
    "render = team => $$.html(`${team.map(member => `<div style=\"display:inline-block;font-size:0.8em;text-align:center;margin:0 0.3em\"><img width=\"50\" src=\"${member.avatar}\"/></br>${member.name.split(' ')[0]}</div>`).join('')}`)\r\n",
    "renderFlags = origins => $$.html([...origins].map(o => `<img style=\"margin: 0 1em\" height=100 src=\"https://unpkg.com/svg-country-flags@1.2.10/svg/${o.toLowerCase()}.svg\">`)); undefined"
   ]
  },
  {
   "cell_type": "code",
   "execution_count": 2,
   "metadata": {},
   "outputs": [
    {
     "data": {
      "text/html": "<div style=\"display:inline-block;font-size:0.8em;text-align:center;margin:0 0.3em\"><img width=\"50\" src=\"https://avatars.githubusercontent.com/u/8599?s=130&v=4\"/></br>Harald</div><div style=\"display:inline-block;font-size:0.8em;text-align:center;margin:0 0.3em\"><img width=\"50\" src=\"https://avatars.githubusercontent.com/u/22350?s=130&v=4\"/></br>João</div><div style=\"display:inline-block;font-size:0.8em;text-align:center;margin:0 0.3em\"><img width=\"50\" src=\"https://avatars.githubusercontent.com/u/43508?s=130&v=4\"/></br>Alessandro</div><div style=\"display:inline-block;font-size:0.8em;text-align:center;margin:0 0.3em\"><img width=\"50\" src=\"https://avatars.githubusercontent.com/u/172399?s=130&v=4\"/></br>Erich</div><div style=\"display:inline-block;font-size:0.8em;text-align:center;margin:0 0.3em\"><img width=\"50\" src=\"https://avatars.githubusercontent.com/u/323878?s=130&v=4\"/></br>Rob</div><div style=\"display:inline-block;font-size:0.8em;text-align:center;margin:0 0.3em\"><img width=\"50\" src=\"https://avatars.githubusercontent.com/u/641685?s=130&v=4\"/></br>Eric</div><div style=\"display:inline-block;font-size:0.8em;text-align:center;margin:0 0.3em\"><img width=\"50\" src=\"https://avatars.githubusercontent.com/u/876920?s=130&v=4\"/></br>Peng</div><div style=\"display:inline-block;font-size:0.8em;text-align:center;margin:0 0.3em\"><img width=\"50\" src=\"https://avatars.githubusercontent.com/u/900690?s=130&v=4\"/></br>Benjamin</div><div style=\"display:inline-block;font-size:0.8em;text-align:center;margin:0 0.3em\"><img width=\"50\" src=\"https://avatars.githubusercontent.com/u/964386?s=130&v=4\"/></br>Deepak</div><div style=\"display:inline-block;font-size:0.8em;text-align:center;margin:0 0.3em\"><img width=\"50\" src=\"https://avatars.githubusercontent.com/u/1186948?s=130&v=4\"/></br>Matt</div><div style=\"display:inline-block;font-size:0.8em;text-align:center;margin:0 0.3em\"><img width=\"50\" src=\"https://avatars.githubusercontent.com/u/1389808?s=130&v=4\"/></br>Devin</div><div style=\"display:inline-block;font-size:0.8em;text-align:center;margin:0 0.3em\"><img width=\"50\" src=\"https://avatars.githubusercontent.com/u/1487073?s=130&v=4\"/></br>Chris</div><div style=\"display:inline-block;font-size:0.8em;text-align:center;margin:0 0.3em\"><img width=\"50\" src=\"https://avatars.githubusercontent.com/u/1794099?s=130&v=4\"/></br>Johannes</div><div style=\"display:inline-block;font-size:0.8em;text-align:center;margin:0 0.3em\"><img width=\"50\" src=\"https://avatars.githubusercontent.com/u/1898161?s=130&v=4\"/></br>André</div><div style=\"display:inline-block;font-size:0.8em;text-align:center;margin:0 0.3em\"><img width=\"50\" src=\"https://avatars.githubusercontent.com/u/1926584?s=130&v=4\"/></br>Isidor</div><div style=\"display:inline-block;font-size:0.8em;text-align:center;margin:0 0.3em\"><img width=\"50\" src=\"https://avatars.githubusercontent.com/u/1931590?s=130&v=4\"/></br>Dirk</div><div style=\"display:inline-block;font-size:0.8em;text-align:center;margin:0 0.3em\"><img width=\"50\" src=\"https://avatars.githubusercontent.com/u/2193314?s=130&v=4\"/></br>Daniel</div><div style=\"display:inline-block;font-size:0.8em;text-align:center;margin:0 0.3em\"><img width=\"50\" src=\"https://avatars.githubusercontent.com/u/2230985?s=130&v=4\"/></br>Connor</div><div style=\"display:inline-block;font-size:0.8em;text-align:center;margin:0 0.3em\"><img width=\"50\" src=\"https://avatars.githubusercontent.com/u/2644648?s=130&v=4\"/></br>Tyler</div><div style=\"display:inline-block;font-size:0.8em;text-align:center;margin:0 0.3em\"><img width=\"50\" src=\"https://avatars.githubusercontent.com/u/3372902?s=130&v=4\"/></br>Ladislau</div><div style=\"display:inline-block;font-size:0.8em;text-align:center;margin:0 0.3em\"><img width=\"50\" src=\"https://avatars.githubusercontent.com/u/3672607?s=130&v=4\"/></br>Rachel</div><div style=\"display:inline-block;font-size:0.8em;text-align:center;margin:0 0.3em\"><img width=\"50\" src=\"https://avatars.githubusercontent.com/u/4544166?s=130&v=4\"/></br>Logan</div><div style=\"display:inline-block;font-size:0.8em;text-align:center;margin:0 0.3em\"><img width=\"50\" src=\"https://avatars.githubusercontent.com/u/4674940?s=130&v=4\"/></br>Kai</div><div style=\"display:inline-block;font-size:0.8em;text-align:center;margin:0 0.3em\"><img width=\"50\" src=\"https://avatars.githubusercontent.com/u/5047891?s=130&v=4\"/></br>Alexandru</div><div style=\"display:inline-block;font-size:0.8em;text-align:center;margin:0 0.3em\"><img width=\"50\" src=\"https://avatars.githubusercontent.com/u/6461412?s=130&v=4\"/></br>Martin</div><div style=\"display:inline-block;font-size:0.8em;text-align:center;margin:0 0.3em\"><img width=\"50\" src=\"https://avatars.githubusercontent.com/u/6561887?s=130&v=4\"/></br>SteVen</div><div style=\"display:inline-block;font-size:0.8em;text-align:center;margin:0 0.3em\"><img width=\"50\" src=\"https://avatars.githubusercontent.com/u/7199958?s=130&v=4\"/></br>Raymond</div><div style=\"display:inline-block;font-size:0.8em;text-align:center;margin:0 0.3em\"><img width=\"50\" src=\"https://avatars.githubusercontent.com/u/8586769?s=130&v=4\"/></br>Jackson</div><div style=\"display:inline-block;font-size:0.8em;text-align:center;margin:0 0.3em\"><img width=\"50\" src=\"https://avatars.githubusercontent.com/u/9205389?s=130&v=4\"/></br>Christof</div><div style=\"display:inline-block;font-size:0.8em;text-align:center;margin:0 0.3em\"><img width=\"50\" src=\"https://avatars.githubusercontent.com/u/9721254?s=130&v=4\"/></br>Sana</div><div style=\"display:inline-block;font-size:0.8em;text-align:center;margin:0 0.3em\"><img width=\"50\" src=\"https://avatars.githubusercontent.com/u/10746682?s=130&v=4\"/></br>Sandeep</div><div style=\"display:inline-block;font-size:0.8em;text-align:center;margin:0 0.3em\"><img width=\"50\" src=\"https://avatars.githubusercontent.com/u/12758612?s=130&v=4\"/></br>Tanha</div><div style=\"display:inline-block;font-size:0.8em;text-align:center;margin:0 0.3em\"><img width=\"50\" src=\"https://avatars.githubusercontent.com/u/12818376?s=130&v=4\"/></br>Greg</div><div style=\"display:inline-block;font-size:0.8em;text-align:center;margin:0 0.3em\"><img width=\"50\" src=\"https://avatars.githubusercontent.com/u/12821956?s=130&v=4\"/></br>Matt</div><div style=\"display:inline-block;font-size:0.8em;text-align:center;margin:0 0.3em\"><img width=\"50\" src=\"https://avatars.githubusercontent.com/u/25310137?s=130&v=4\"/></br>Brigit</div><div style=\"display:inline-block;font-size:0.8em;text-align:center;margin:0 0.3em\"><img width=\"50\" src=\"https://avatars.githubusercontent.com/u/29464607?s=130&v=4\"/></br>Megan</div><div style=\"display:inline-block;font-size:0.8em;text-align:center;margin:0 0.3em\"><img width=\"50\" src=\"https://avatars.githubusercontent.com/u/35271042?s=130&v=4\"/></br>Miguel</div><div style=\"display:inline-block;font-size:0.8em;text-align:center;margin:0 0.3em\"><img width=\"50\" src=\"https://avatars.githubusercontent.com/u/38270282?s=130&v=4\"/></br>Alex</div><div style=\"display:inline-block;font-size:0.8em;text-align:center;margin:0 0.3em\"><img width=\"50\" src=\"https://avatars.githubusercontent.com/u/44654695?s=130&v=4\"/></br>Ornella</div>"
     },
     "execution_count": 2,
     "metadata": {},
     "output_type": "execute_result"
    }
   ],
   "source": [
    "render(team)"
   ]
  },
  {
   "cell_type": "markdown",
   "metadata": {},
   "source": [
    "# Developers"
   ]
  },
  {
   "cell_type": "code",
   "execution_count": 3,
   "metadata": {},
   "outputs": [
    {
     "data": {
      "text/html": "<div style=\"display:inline-block;font-size:0.8em;text-align:center;margin:0 0.3em\"><img width=\"50\" src=\"https://avatars.githubusercontent.com/u/22350?s=130&v=4\"/></br>João</div><div style=\"display:inline-block;font-size:0.8em;text-align:center;margin:0 0.3em\"><img width=\"50\" src=\"https://avatars.githubusercontent.com/u/323878?s=130&v=4\"/></br>Rob</div><div style=\"display:inline-block;font-size:0.8em;text-align:center;margin:0 0.3em\"><img width=\"50\" src=\"https://avatars.githubusercontent.com/u/641685?s=130&v=4\"/></br>Eric</div><div style=\"display:inline-block;font-size:0.8em;text-align:center;margin:0 0.3em\"><img width=\"50\" src=\"https://avatars.githubusercontent.com/u/876920?s=130&v=4\"/></br>Peng</div><div style=\"display:inline-block;font-size:0.8em;text-align:center;margin:0 0.3em\"><img width=\"50\" src=\"https://avatars.githubusercontent.com/u/900690?s=130&v=4\"/></br>Benjamin</div><div style=\"display:inline-block;font-size:0.8em;text-align:center;margin:0 0.3em\"><img width=\"50\" src=\"https://avatars.githubusercontent.com/u/964386?s=130&v=4\"/></br>Deepak</div><div style=\"display:inline-block;font-size:0.8em;text-align:center;margin:0 0.3em\"><img width=\"50\" src=\"https://avatars.githubusercontent.com/u/1794099?s=130&v=4\"/></br>Johannes</div><div style=\"display:inline-block;font-size:0.8em;text-align:center;margin:0 0.3em\"><img width=\"50\" src=\"https://avatars.githubusercontent.com/u/1898161?s=130&v=4\"/></br>André</div><div style=\"display:inline-block;font-size:0.8em;text-align:center;margin:0 0.3em\"><img width=\"50\" src=\"https://avatars.githubusercontent.com/u/1926584?s=130&v=4\"/></br>Isidor</div><div style=\"display:inline-block;font-size:0.8em;text-align:center;margin:0 0.3em\"><img width=\"50\" src=\"https://avatars.githubusercontent.com/u/1931590?s=130&v=4\"/></br>Dirk</div><div style=\"display:inline-block;font-size:0.8em;text-align:center;margin:0 0.3em\"><img width=\"50\" src=\"https://avatars.githubusercontent.com/u/2193314?s=130&v=4\"/></br>Daniel</div><div style=\"display:inline-block;font-size:0.8em;text-align:center;margin:0 0.3em\"><img width=\"50\" src=\"https://avatars.githubusercontent.com/u/2230985?s=130&v=4\"/></br>Connor</div><div style=\"display:inline-block;font-size:0.8em;text-align:center;margin:0 0.3em\"><img width=\"50\" src=\"https://avatars.githubusercontent.com/u/2644648?s=130&v=4\"/></br>Tyler</div><div style=\"display:inline-block;font-size:0.8em;text-align:center;margin:0 0.3em\"><img width=\"50\" src=\"https://avatars.githubusercontent.com/u/3372902?s=130&v=4\"/></br>Ladislau</div><div style=\"display:inline-block;font-size:0.8em;text-align:center;margin:0 0.3em\"><img width=\"50\" src=\"https://avatars.githubusercontent.com/u/3672607?s=130&v=4\"/></br>Rachel</div><div style=\"display:inline-block;font-size:0.8em;text-align:center;margin:0 0.3em\"><img width=\"50\" src=\"https://avatars.githubusercontent.com/u/4544166?s=130&v=4\"/></br>Logan</div><div style=\"display:inline-block;font-size:0.8em;text-align:center;margin:0 0.3em\"><img width=\"50\" src=\"https://avatars.githubusercontent.com/u/5047891?s=130&v=4\"/></br>Alexandru</div><div style=\"display:inline-block;font-size:0.8em;text-align:center;margin:0 0.3em\"><img width=\"50\" src=\"https://avatars.githubusercontent.com/u/6461412?s=130&v=4\"/></br>Martin</div><div style=\"display:inline-block;font-size:0.8em;text-align:center;margin:0 0.3em\"><img width=\"50\" src=\"https://avatars.githubusercontent.com/u/6561887?s=130&v=4\"/></br>SteVen</div><div style=\"display:inline-block;font-size:0.8em;text-align:center;margin:0 0.3em\"><img width=\"50\" src=\"https://avatars.githubusercontent.com/u/7199958?s=130&v=4\"/></br>Raymond</div><div style=\"display:inline-block;font-size:0.8em;text-align:center;margin:0 0.3em\"><img width=\"50\" src=\"https://avatars.githubusercontent.com/u/8586769?s=130&v=4\"/></br>Jackson</div><div style=\"display:inline-block;font-size:0.8em;text-align:center;margin:0 0.3em\"><img width=\"50\" src=\"https://avatars.githubusercontent.com/u/9205389?s=130&v=4\"/></br>Christof</div><div style=\"display:inline-block;font-size:0.8em;text-align:center;margin:0 0.3em\"><img width=\"50\" src=\"https://avatars.githubusercontent.com/u/10746682?s=130&v=4\"/></br>Sandeep</div><div style=\"display:inline-block;font-size:0.8em;text-align:center;margin:0 0.3em\"><img width=\"50\" src=\"https://avatars.githubusercontent.com/u/12821956?s=130&v=4\"/></br>Matt</div><div style=\"display:inline-block;font-size:0.8em;text-align:center;margin:0 0.3em\"><img width=\"50\" src=\"https://avatars.githubusercontent.com/u/29464607?s=130&v=4\"/></br>Megan</div><div style=\"display:inline-block;font-size:0.8em;text-align:center;margin:0 0.3em\"><img width=\"50\" src=\"https://avatars.githubusercontent.com/u/38270282?s=130&v=4\"/></br>Alex</div>"
     },
     "execution_count": 3,
     "metadata": {},
     "output_type": "execute_result"
    }
   ],
   "source": [
    "render(team.filter(p => p.role === 'Dev'))"
   ]
  },
  {
   "cell_type": "markdown",
   "metadata": {},
   "source": [
    "# PMs"
   ]
  },
  {
   "cell_type": "code",
   "execution_count": 4,
   "metadata": {},
   "outputs": [
    {
     "data": {
      "text/html": "<div style=\"display:inline-block;font-size:0.8em;text-align:center;margin:0 0.3em\"><img width=\"50\" src=\"https://avatars.githubusercontent.com/u/8599?s=130&v=4\"/></br>Harald</div><div style=\"display:inline-block;font-size:0.8em;text-align:center;margin:0 0.3em\"><img width=\"50\" src=\"https://avatars.githubusercontent.com/u/43508?s=130&v=4\"/></br>Alessandro</div><div style=\"display:inline-block;font-size:0.8em;text-align:center;margin:0 0.3em\"><img width=\"50\" src=\"https://avatars.githubusercontent.com/u/1186948?s=130&v=4\"/></br>Matt</div><div style=\"display:inline-block;font-size:0.8em;text-align:center;margin:0 0.3em\"><img width=\"50\" src=\"https://avatars.githubusercontent.com/u/1389808?s=130&v=4\"/></br>Devin</div><div style=\"display:inline-block;font-size:0.8em;text-align:center;margin:0 0.3em\"><img width=\"50\" src=\"https://avatars.githubusercontent.com/u/1487073?s=130&v=4\"/></br>Chris</div><div style=\"display:inline-block;font-size:0.8em;text-align:center;margin:0 0.3em\"><img width=\"50\" src=\"https://avatars.githubusercontent.com/u/9721254?s=130&v=4\"/></br>Sana</div><div style=\"display:inline-block;font-size:0.8em;text-align:center;margin:0 0.3em\"><img width=\"50\" src=\"https://avatars.githubusercontent.com/u/12758612?s=130&v=4\"/></br>Tanha</div><div style=\"display:inline-block;font-size:0.8em;text-align:center;margin:0 0.3em\"><img width=\"50\" src=\"https://avatars.githubusercontent.com/u/25310137?s=130&v=4\"/></br>Brigit</div><div style=\"display:inline-block;font-size:0.8em;text-align:center;margin:0 0.3em\"><img width=\"50\" src=\"https://avatars.githubusercontent.com/u/44654695?s=130&v=4\"/></br>Ornella</div>"
     },
     "execution_count": 4,
     "metadata": {},
     "output_type": "execute_result"
    }
   ],
   "source": [
    "render(team.filter(p => p.role === 'PM'))"
   ]
  },
  {
   "cell_type": "markdown",
   "metadata": {},
   "source": [
    "# Others"
   ]
  },
  {
   "cell_type": "code",
   "execution_count": 5,
   "metadata": {},
   "outputs": [
    {
     "data": {
      "text/html": "<div style=\"display:inline-block;font-size:0.8em;text-align:center;margin:0 0.3em\"><img width=\"50\" src=\"https://avatars.githubusercontent.com/u/172399?s=130&v=4\"/></br>Erich</div><div style=\"display:inline-block;font-size:0.8em;text-align:center;margin:0 0.3em\"><img width=\"50\" src=\"https://avatars.githubusercontent.com/u/4674940?s=130&v=4\"/></br>Kai</div><div style=\"display:inline-block;font-size:0.8em;text-align:center;margin:0 0.3em\"><img width=\"50\" src=\"https://avatars.githubusercontent.com/u/12818376?s=130&v=4\"/></br>Greg</div><div style=\"display:inline-block;font-size:0.8em;text-align:center;margin:0 0.3em\"><img width=\"50\" src=\"https://avatars.githubusercontent.com/u/35271042?s=130&v=4\"/></br>Miguel</div>"
     },
     "execution_count": 5,
     "metadata": {},
     "output_type": "execute_result"
    }
   ],
   "source": [
    "render(team.filter(p => p.role !== 'Dev' && p.role !== 'PM'))"
   ]
  },
  {
   "cell_type": "markdown",
   "metadata": {},
   "source": [
    "# Countries"
   ]
  },
  {
   "cell_type": "code",
   "execution_count": 6,
   "metadata": {},
   "outputs": [
    {
     "data": {
      "text/html": [
       "<img style=\"margin: 0 1em\" height=100 src=\"https://unpkg.com/svg-country-flags@1.2.10/svg/de.svg\">",
       "<img style=\"margin: 0 1em\" height=100 src=\"https://unpkg.com/svg-country-flags@1.2.10/svg/pt.svg\">",
       "<img style=\"margin: 0 1em\" height=100 src=\"https://unpkg.com/svg-country-flags@1.2.10/svg/it.svg\">",
       "<img style=\"margin: 0 1em\" height=100 src=\"https://unpkg.com/svg-country-flags@1.2.10/svg/ch.svg\">",
       "<img style=\"margin: 0 1em\" height=100 src=\"https://unpkg.com/svg-country-flags@1.2.10/svg/us.svg\">",
       "<img style=\"margin: 0 1em\" height=100 src=\"https://unpkg.com/svg-country-flags@1.2.10/svg/cn.svg\">",
       "<img style=\"margin: 0 1em\" height=100 src=\"https://unpkg.com/svg-country-flags@1.2.10/svg/in.svg\">",
       "<img style=\"margin: 0 1em\" height=100 src=\"https://unpkg.com/svg-country-flags@1.2.10/svg/rs.svg\">",
       "<img style=\"margin: 0 1em\" height=100 src=\"https://unpkg.com/svg-country-flags@1.2.10/svg/au.svg\">",
       "<img style=\"margin: 0 1em\" height=100 src=\"https://unpkg.com/svg-country-flags@1.2.10/svg/hu.svg\">",
       "<img style=\"margin: 0 1em\" height=100 src=\"https://unpkg.com/svg-country-flags@1.2.10/svg/ro.svg\">",
       "<img style=\"margin: 0 1em\" height=100 src=\"https://unpkg.com/svg-country-flags@1.2.10/svg/ca.svg\">"
      ]
     },
     "execution_count": 6,
     "metadata": {},
     "output_type": "execute_result"
    }
   ],
   "source": [
    "renderFlags(new Set(team.map(p => p.origin)))"
   ]
  }
 ],
 "metadata": {
  "kernelspec": {
   "display_name": "Javascript (Node.js)",
   "language": "javascript",
   "name": "javascript"
  },
  "language_info": {
   "file_extension": ".js",
   "mimetype": "application/javascript",
   "name": "javascript",
   "version": "12.20.0"
  },
  "orig_nbformat": 2
 },
 "nbformat": 4,
 "nbformat_minor": 2
}